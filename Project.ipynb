{
 "cells": [
  {
   "cell_type": "markdown",
   "id": "225bc37b",
   "metadata": {},
   "source": [
    "## Load packages and data"
   ]
  },
  {
   "cell_type": "code",
   "execution_count": 18,
   "id": "315f1aaf",
   "metadata": {},
   "outputs": [],
   "source": [
    "import pandas as pd\n",
    "import numpy as np\n",
    "import matplotlib.pyplot as plt\n",
    "import spacy\n",
    "from sklearn.model_selection import train_test_split\n",
    "from sklearn.feature_extraction.text import TfidfVectorizer\n",
    "from imblearn.over_sampling import RandomOverSampler\n",
    "from imblearn.under_sampling import RandomUnderSampler\n",
    "from sklearn.metrics import classification_report, confusion_matrix\n",
    "from sklearn.linear_model import LogisticRegression\n",
    "from sklearn.ensemble import RandomForestClassifier\n",
    "from tensorflow.keras.preprocessing.text import Tokenizer\n",
    "from tensorflow.keras.preprocessing.sequence import pad_sequences\n",
    "from tensorflow.keras.models import Sequential\n",
    "from tensorflow.keras.layers import LSTM, Dense, Embedding, Bidirectional, SpatialDropout1D, Dropout, Conv1D, MaxPooling1D, BatchNormalization\n",
    "from tensorflow.keras.callbacks import EarlyStopping, ModelCheckpoint\n",
    "from tensorflow.keras.models import load_model\n",
    "from tensorflow.keras.utils import to_categorical\n",
    "import seaborn as sns"
   ]
  },
  {
   "cell_type": "code",
   "execution_count": 2,
   "id": "e5bbe3ec",
   "metadata": {},
   "outputs": [],
   "source": [
    "df = pd.read_csv(\"babbel.csv\")"
   ]
  },
  {
   "cell_type": "code",
   "execution_count": 3,
   "id": "b77e25ac",
   "metadata": {},
   "outputs": [
    {
     "data": {
      "text/html": [
       "<div>\n",
       "<style scoped>\n",
       "    .dataframe tbody tr th:only-of-type {\n",
       "        vertical-align: middle;\n",
       "    }\n",
       "\n",
       "    .dataframe tbody tr th {\n",
       "        vertical-align: top;\n",
       "    }\n",
       "\n",
       "    .dataframe thead th {\n",
       "        text-align: right;\n",
       "    }\n",
       "</style>\n",
       "<table border=\"1\" class=\"dataframe\">\n",
       "  <thead>\n",
       "    <tr style=\"text-align: right;\">\n",
       "      <th></th>\n",
       "      <th>content</th>\n",
       "      <th>score</th>\n",
       "    </tr>\n",
       "  </thead>\n",
       "  <tbody>\n",
       "    <tr>\n",
       "      <th>0</th>\n",
       "      <td>it's honestly great, the only thing left is to...</td>\n",
       "      <td>5</td>\n",
       "    </tr>\n",
       "    <tr>\n",
       "      <th>1</th>\n",
       "      <td>Way too hard to follow. Duolingo is way better.</td>\n",
       "      <td>1</td>\n",
       "    </tr>\n",
       "    <tr>\n",
       "      <th>2</th>\n",
       "      <td>Actually useful for learning but I want to lea...</td>\n",
       "      <td>3</td>\n",
       "    </tr>\n",
       "    <tr>\n",
       "      <th>3</th>\n",
       "      <td>The audio tests are absolutely terrible lol. L...</td>\n",
       "      <td>1</td>\n",
       "    </tr>\n",
       "    <tr>\n",
       "      <th>4</th>\n",
       "      <td>Good app so far. I like that you learn predomi...</td>\n",
       "      <td>4</td>\n",
       "    </tr>\n",
       "    <tr>\n",
       "      <th>...</th>\n",
       "      <td>...</td>\n",
       "      <td>...</td>\n",
       "    </tr>\n",
       "    <tr>\n",
       "      <th>46621</th>\n",
       "      <td>Only based on vocab? Not useful from a pedagog...</td>\n",
       "      <td>1</td>\n",
       "    </tr>\n",
       "    <tr>\n",
       "      <th>46622</th>\n",
       "      <td>Great</td>\n",
       "      <td>5</td>\n",
       "    </tr>\n",
       "    <tr>\n",
       "      <th>46623</th>\n",
       "      <td>Maybe I can't call it a bug, but a misconcepti...</td>\n",
       "      <td>1</td>\n",
       "    </tr>\n",
       "    <tr>\n",
       "      <th>46624</th>\n",
       "      <td>App language: English System language: English...</td>\n",
       "      <td>1</td>\n",
       "    </tr>\n",
       "    <tr>\n",
       "      <th>46625</th>\n",
       "      <td>My mother tongue was set to spainish after ins...</td>\n",
       "      <td>4</td>\n",
       "    </tr>\n",
       "  </tbody>\n",
       "</table>\n",
       "<p>46626 rows × 2 columns</p>\n",
       "</div>"
      ],
      "text/plain": [
       "                                                 content  score\n",
       "0      it's honestly great, the only thing left is to...      5\n",
       "1        Way too hard to follow. Duolingo is way better.      1\n",
       "2      Actually useful for learning but I want to lea...      3\n",
       "3      The audio tests are absolutely terrible lol. L...      1\n",
       "4      Good app so far. I like that you learn predomi...      4\n",
       "...                                                  ...    ...\n",
       "46621  Only based on vocab? Not useful from a pedagog...      1\n",
       "46622                                              Great      5\n",
       "46623  Maybe I can't call it a bug, but a misconcepti...      1\n",
       "46624  App language: English System language: English...      1\n",
       "46625  My mother tongue was set to spainish after ins...      4\n",
       "\n",
       "[46626 rows x 2 columns]"
      ]
     },
     "execution_count": 3,
     "metadata": {},
     "output_type": "execute_result"
    }
   ],
   "source": [
    "df"
   ]
  },
  {
   "cell_type": "markdown",
   "id": "bbfa4c25",
   "metadata": {},
   "source": [
    "#### Class frequencies"
   ]
  },
  {
   "cell_type": "code",
   "execution_count": 71,
   "id": "83aa5754",
   "metadata": {},
   "outputs": [
    {
     "data": {
      "image/png": "[encoded data removed]",
      "text/plain": [
       "<Figure size 700x500 with 1 Axes>"
      ]
     },
     "metadata": {},
     "output_type": "display_data"
    }
   ],
   "source": [
    "ax = sns.countplot(x = df[\"score\"], palette = \"magma_r\")\n",
    "ax.set(xlabel = \"User rating\", ylabel = \"Frequency\")\n",
    "plt.show()"
   ]
  },
  {
   "cell_type": "code",
   "execution_count": 74,
   "id": "5cedb68b",
   "metadata": {},
   "outputs": [
    {
     "data": {
      "text/plain": [
       "5    29024\n",
       "4     7165\n",
       "1     5456\n",
       "3     2924\n",
       "2     2057\n",
       "Name: score, dtype: int64"
      ]
     },
     "execution_count": 74,
     "metadata": {},
     "output_type": "execute_result"
    }
   ],
   "source": [
    "df[\"score\"].value_counts()"
   ]
  },
  {
   "cell_type": "markdown",
   "id": "11a0a2a3",
   "metadata": {},
   "source": [
    "## Preprocess data"
   ]
  },
  {
   "cell_type": "markdown",
   "id": "fe57178d",
   "metadata": {},
   "source": [
    "#### Remove stop words and lemmatize"
   ]
  },
  {
   "cell_type": "code",
   "execution_count": 4,
   "id": "1113b546",
   "metadata": {},
   "outputs": [],
   "source": [
    "nlp = spacy.load(\"en_core_web_sm\")\n",
    "\n",
    "def preprocess(text):\n",
    "    return [token.lemma_ for token in nlp(text) if token.lemma_.isalpha() and not token.is_stop]"
   ]
  },
  {
   "cell_type": "markdown",
   "id": "39711e56",
   "metadata": {},
   "source": [
    "#### Split into train and test subsets"
   ]
  },
  {
   "cell_type": "code",
   "execution_count": 5,
   "id": "67006868",
   "metadata": {},
   "outputs": [],
   "source": [
    "# Split data into training and test sets\n",
    "X_train, X_test, y_train, y_test = train_test_split(df.content, df.score, test_size = 0.2, random_state = 1)"
   ]
  },
  {
   "cell_type": "markdown",
   "id": "43825677",
   "metadata": {},
   "source": [
    "#### Random oversampling"
   ]
  },
  {
   "cell_type": "code",
   "execution_count": 6,
   "id": "0f88457d",
   "metadata": {},
   "outputs": [],
   "source": [
    "ros = RandomOverSampler(random_state = 1)\n",
    "X_train_ros, y_train_ros = ros.fit_resample(np.array(X_train).reshape(-1,1), y_train)\n",
    "#X_train_Tfidf_ros, y_train_ros = ros.fit_resample(X_train_Tfidf, y_train)"
   ]
  },
  {
   "cell_type": "markdown",
   "id": "48e5493d",
   "metadata": {},
   "source": [
    "#### Random undersampling"
   ]
  },
  {
   "cell_type": "code",
   "execution_count": 7,
   "id": "481e6004",
   "metadata": {},
   "outputs": [],
   "source": [
    "rus = RandomUnderSampler(random_state = 1)\n",
    "X_train_rus, y_train_rus = rus.fit_resample(np.array(X_train).reshape(-1,1), y_train)\n",
    "#X_train_Tfidf_rus, y_train_rus = rus.fit_resample(X_train_Tfidf, y_train)"
   ]
  },
  {
   "cell_type": "markdown",
   "id": "649b761a",
   "metadata": {},
   "source": [
    "#### Preprocessing for machine learning models"
   ]
  },
  {
   "cell_type": "code",
   "execution_count": 8,
   "id": "f0bef9a7",
   "metadata": {},
   "outputs": [],
   "source": [
    "vectorizer_Tfidf = TfidfVectorizer(tokenizer = preprocess)\n",
    "X_train_Tfidf = vectorizer_Tfidf.fit_transform(X_train)\n",
    "X_test_Tfidf = vectorizer_Tfidf.transform(X_test)"
   ]
  },
  {
   "cell_type": "code",
   "execution_count": 9,
   "id": "daba1b48",
   "metadata": {},
   "outputs": [],
   "source": [
    "X_train_Tfidf_ros, y_train_ros = ros.fit_resample(X_train_Tfidf, y_train)\n",
    "X_train_Tfidf_rus, y_train_rus = rus.fit_resample(X_train_Tfidf, y_train)"
   ]
  },
  {
   "cell_type": "markdown",
   "id": "75d96ffc",
   "metadata": {},
   "source": [
    "#### Preprocessing for deep learning models"
   ]
  },
  {
   "cell_type": "code",
   "execution_count": 10,
   "id": "222dc4a0",
   "metadata": {},
   "outputs": [],
   "source": [
    "vocab_size = len(sum([preprocess(x) for x in X_train], [])) + 1\n",
    "oov_tok = \"<OOV>\"\n",
    "tokenizer = Tokenizer(num_words = vocab_size, oov_token = oov_tok)\n",
    "tokenizer.fit_on_texts(X_train)\n",
    "\n",
    "sequence_length = 200\n",
    "\n",
    "train_sequences = tokenizer.texts_to_sequences([preprocess(x) for x in X_train])\n",
    "train_padded = pad_sequences(train_sequences, maxlen = sequence_length, padding = \"post\", truncating = \"post\")\n",
    "\n",
    "test_sequences = tokenizer.texts_to_sequences([preprocess(x) for x in X_test])\n",
    "test_padded = pad_sequences(test_sequences, maxlen = sequence_length, padding = \"post\", truncating = \"post\")\n",
    "\n",
    "train_cat = to_categorical(y_train)\n",
    "test_cat = to_categorical(y_test)"
   ]
  },
  {
   "cell_type": "code",
   "execution_count": 11,
   "id": "0a9a2122",
   "metadata": {},
   "outputs": [],
   "source": [
    "# Random oversampling\n",
    "train_sequences_ros = tokenizer.texts_to_sequences([preprocess(x) for x in X_train_ros.flatten()])\n",
    "train_padded_ros = pad_sequences(train_sequences_ros, maxlen = sequence_length, padding = \"post\", truncating = \"post\")\n",
    "\n",
    "train_cat_ros = to_categorical(y_train_ros)"
   ]
  },
  {
   "cell_type": "code",
   "execution_count": 12,
   "id": "0054fc95",
   "metadata": {},
   "outputs": [],
   "source": [
    "# Random undersampling\n",
    "train_sequences_rus = tokenizer.texts_to_sequences([preprocess(x) for x in X_train_rus.flatten()])\n",
    "train_padded_rus = pad_sequences(train_sequences_rus, maxlen = sequence_length, padding = \"post\", truncating = \"post\")\n",
    "\n",
    "train_cat_rus = to_categorical(y_train_rus)"
   ]
  },
  {
   "cell_type": "markdown",
   "id": "6c24b94a",
   "metadata": {},
   "source": [
    "## Models"
   ]
  },
  {
   "cell_type": "markdown",
   "id": "89420aaa",
   "metadata": {},
   "source": [
    "#### Logistic regression"
   ]
  },
  {
   "cell_type": "code",
   "execution_count": 13,
   "id": "6a6897e3",
   "metadata": {},
   "outputs": [
    {
     "name": "stdout",
     "output_type": "stream",
     "text": [
      "Train:\n",
      "[[ 3466    35   107    94   627]\n",
      " [  756   213   127   135   436]\n",
      " [  562    41   495   299   968]\n",
      " [  289    25   113  1095  4159]\n",
      " [  246    17    82   284 22629]]\n",
      "              precision    recall  f1-score   support\n",
      "\n",
      "           1       0.65      0.80      0.72      4329\n",
      "           2       0.64      0.13      0.21      1667\n",
      "           3       0.54      0.21      0.30      2365\n",
      "           4       0.57      0.19      0.29      5681\n",
      "           5       0.79      0.97      0.87     23258\n",
      "\n",
      "    accuracy                           0.75     37300\n",
      "   macro avg       0.64      0.46      0.48     37300\n",
      "weighted avg       0.72      0.75      0.70     37300\n",
      "\n",
      "Test:\n",
      "[[ 820   16   40   39  212]\n",
      " [ 202   12   50   33   93]\n",
      " [ 165   16   58   91  229]\n",
      " [  75    4   58  180 1167]\n",
      " [  88   10   25  107 5536]]\n",
      "              precision    recall  f1-score   support\n",
      "\n",
      "           1       0.61      0.73      0.66      1127\n",
      "           2       0.21      0.03      0.05       390\n",
      "           3       0.25      0.10      0.15       559\n",
      "           4       0.40      0.12      0.19      1484\n",
      "           5       0.76      0.96      0.85      5766\n",
      "\n",
      "    accuracy                           0.71      9326\n",
      "   macro avg       0.45      0.39      0.38      9326\n",
      "weighted avg       0.63      0.71      0.65      9326\n",
      "\n"
     ]
    }
   ],
   "source": [
    "clf_logreg = LogisticRegression(max_iter = 1000).fit(X_train_Tfidf, y_train)\n",
    "y_pred_train_logreg = clf_logreg.predict(X_train_Tfidf)\n",
    "y_pred_logreg = clf_logreg.predict(X_test_Tfidf)\n",
    "\n",
    "print(\"Train:\")\n",
    "print(confusion_matrix(y_train, y_pred_train_logreg))\n",
    "print(classification_report(y_train, y_pred_train_logreg))\n",
    "\n",
    "print(\"Test:\")\n",
    "print(confusion_matrix(y_test, y_pred_logreg))\n",
    "print(classification_report(y_test, y_pred_logreg))"
   ]
  },
  {
   "cell_type": "markdown",
   "id": "0e384403",
   "metadata": {},
   "source": [
    "#### Random forest"
   ]
  },
  {
   "cell_type": "code",
   "execution_count": 14,
   "id": "865a5f3a",
   "metadata": {},
   "outputs": [
    {
     "name": "stdout",
     "output_type": "stream",
     "text": [
      "Train:\n",
      "[[ 4253    12     7     3    54]\n",
      " [   45  1584     8     7    23]\n",
      " [   41     6  2174    12   132]\n",
      " [   20     0     4  4570  1087]\n",
      " [   32     2     9    59 23156]]\n",
      "              precision    recall  f1-score   support\n",
      "\n",
      "           1       0.97      0.98      0.98      4329\n",
      "           2       0.99      0.95      0.97      1667\n",
      "           3       0.99      0.92      0.95      2365\n",
      "           4       0.98      0.80      0.88      5681\n",
      "           5       0.95      1.00      0.97     23258\n",
      "\n",
      "    accuracy                           0.96     37300\n",
      "   macro avg       0.97      0.93      0.95     37300\n",
      "weighted avg       0.96      0.96      0.96     37300\n",
      "\n",
      "Test:\n",
      "[[ 806   15   35   16  255]\n",
      " [ 207    3   16   29  135]\n",
      " [ 180   13   35   51  280]\n",
      " [  97    1   23  110 1253]\n",
      " [  93    6   19  114 5534]]\n",
      "              precision    recall  f1-score   support\n",
      "\n",
      "           1       0.58      0.72      0.64      1127\n",
      "           2       0.08      0.01      0.01       390\n",
      "           3       0.27      0.06      0.10       559\n",
      "           4       0.34      0.07      0.12      1484\n",
      "           5       0.74      0.96      0.84      5766\n",
      "\n",
      "    accuracy                           0.70      9326\n",
      "   macro avg       0.40      0.36      0.34      9326\n",
      "weighted avg       0.60      0.70      0.62      9326\n",
      "\n"
     ]
    }
   ],
   "source": [
    "clf_rf = RandomForestClassifier(random_state = 1).fit(X_train_Tfidf, y_train)\n",
    "y_pred_train_rf = clf_rf.predict(X_train_Tfidf)\n",
    "y_pred_rf = clf_rf.predict(X_test_Tfidf)\n",
    "\n",
    "print(\"Train:\")\n",
    "print(confusion_matrix(y_train, y_pred_train_rf))\n",
    "print(classification_report(y_train, y_pred_train_rf))\n",
    "\n",
    "print(\"Test:\")\n",
    "print(confusion_matrix(y_test, y_pred_rf))\n",
    "print(classification_report(y_test, y_pred_rf))"
   ]
  },
  {
   "cell_type": "markdown",
   "id": "c29b5785",
   "metadata": {},
   "source": [
    "#### Bidirectional LSTM"
   ]
  },
  {
   "cell_type": "code",
   "execution_count": 15,
   "id": "83850c06",
   "metadata": {},
   "outputs": [
    {
     "name": "stdout",
     "output_type": "stream",
     "text": [
      "Model: \"sequential\"\n",
      "_________________________________________________________________\n",
      " Layer (type)                Output Shape              Param #   \n",
      "=================================================================\n",
      " embedding (Embedding)       (None, 200, 16)           4575584   \n",
      "                                                                 \n",
      " bidirectional (Bidirectiona  (None, 64)               12544     \n",
      " l)                                                              \n",
      "                                                                 \n",
      " dense (Dense)               (None, 6)                 390       \n",
      "                                                                 \n",
      "=================================================================\n",
      "Total params: 4,588,518\n",
      "Trainable params: 4,588,518\n",
      "Non-trainable params: 0\n",
      "_________________________________________________________________\n"
     ]
    }
   ],
   "source": [
    "model = Sequential()\n",
    "\n",
    "embedding_dim = 16\n",
    "lstm_out = 32\n",
    "\n",
    "model.add(Embedding(vocab_size, embedding_dim, input_length = sequence_length))\n",
    "model.add(Bidirectional(LSTM(lstm_out)))\n",
    "model.add(Dense(6, activation = \"softmax\"))\n",
    "\n",
    "model.compile(loss = \"categorical_crossentropy\", optimizer = \"adam\", metrics = [\"accuracy\"])\n",
    "\n",
    "es = EarlyStopping(monitor = \"val_loss\", mode = \"min\", verbose = 1)\n",
    "mc = ModelCheckpoint(\"best_bilstm.h5\", monitor = \"val_accuracy\", mode = \"max\", verbose = 1, save_best_only = True)\n",
    "\n",
    "model.summary()"
   ]
  },
  {
   "cell_type": "code",
   "execution_count": 16,
   "id": "3bd3226e",
   "metadata": {},
   "outputs": [
    {
     "name": "stdout",
     "output_type": "stream",
     "text": [
      "Epoch 1/10\n",
      "1166/1166 [==============================] - ETA: 0s - loss: 0.8924 - accuracy: 0.6874\n",
      "Epoch 1: val_accuracy improved from -inf to 0.71092, saving model to best_bilstm.h5\n",
      "1166/1166 [==============================] - 207s 174ms/step - loss: 0.8924 - accuracy: 0.6874 - val_loss: 0.8036 - val_accuracy: 0.7109\n",
      "Epoch 2/10\n",
      "1166/1166 [==============================] - ETA: 0s - loss: 0.7612 - accuracy: 0.7245\n",
      "Epoch 2: val_accuracy improved from 0.71092 to 0.71553, saving model to best_bilstm.h5\n",
      "1166/1166 [==============================] - 222s 190ms/step - loss: 0.7612 - accuracy: 0.7245 - val_loss: 0.7919 - val_accuracy: 0.7155\n",
      "Epoch 2: early stopping\n"
     ]
    }
   ],
   "source": [
    "history = model.fit(train_padded, train_cat, epochs = 10, validation_data = (test_padded, test_cat), callbacks = [es, mc])"
   ]
  },
  {
   "cell_type": "code",
   "execution_count": 19,
   "id": "0eedecc1",
   "metadata": {},
   "outputs": [
    {
     "name": "stdout",
     "output_type": "stream",
     "text": [
      "1166/1166 [==============================] - 30s 25ms/step\n",
      "292/292 [==============================] - 7s 22ms/step\n",
      "Training data:\n",
      "[[ 3378     1   312   132   506]\n",
      " [  866     2   350   180   269]\n",
      " [  546     0   555   558   706]\n",
      " [  220     0   252  1121  4088]\n",
      " [  229     0   119   410 22500]]\n",
      "              precision    recall  f1-score   support\n",
      "\n",
      "           1       0.64      0.78      0.71      4329\n",
      "           2       0.67      0.00      0.00      1667\n",
      "           3       0.35      0.23      0.28      2365\n",
      "           4       0.47      0.20      0.28      5681\n",
      "           5       0.80      0.97      0.88     23258\n",
      "\n",
      "    accuracy                           0.74     37300\n",
      "   macro avg       0.59      0.44      0.43     37300\n",
      "weighted avg       0.70      0.74      0.69     37300\n",
      "\n",
      "Test data:\n",
      "[[ 820    1   94   31  181]\n",
      " [ 181    0   77   54   78]\n",
      " [ 147    0  111   96  205]\n",
      " [  62    0   74  219 1129]\n",
      " [  73    0   42  128 5523]]\n",
      "              precision    recall  f1-score   support\n",
      "\n",
      "           1       0.64      0.73      0.68      1127\n",
      "           2       0.00      0.00      0.00       390\n",
      "           3       0.28      0.20      0.23       559\n",
      "           4       0.41      0.15      0.22      1484\n",
      "           5       0.78      0.96      0.86      5766\n",
      "\n",
      "    accuracy                           0.72      9326\n",
      "   macro avg       0.42      0.41      0.40      9326\n",
      "weighted avg       0.64      0.72      0.66      9326\n",
      "\n"
     ]
    }
   ],
   "source": [
    "# Load saved model\n",
    "best_bilstm_model = load_model(\"best_bilstm.h5\")\n",
    "\n",
    "y_pred_train_bilstm = best_bilstm_model.predict(train_padded)\n",
    "y_pred_bilstm = best_bilstm_model.predict(test_padded)\n",
    "\n",
    "print(\"Training data:\")\n",
    "print(confusion_matrix(y_train, np.argmax(y_pred_train_bilstm, axis = 1)))\n",
    "print(classification_report(y_train, np.argmax(y_pred_train_bilstm, axis = 1)))\n",
    "\n",
    "print(\"Test data:\")\n",
    "print(confusion_matrix(y_test, np.argmax(y_pred_bilstm, axis = 1)))\n",
    "print(classification_report(y_test, np.argmax(y_pred_bilstm, axis = 1)))"
   ]
  },
  {
   "cell_type": "markdown",
   "id": "30a6ee00",
   "metadata": {},
   "source": [
    "#### Multinomial logistic regression with random oversampling"
   ]
  },
  {
   "cell_type": "code",
   "execution_count": 20,
   "id": "160aa944",
   "metadata": {},
   "outputs": [
    {
     "name": "stdout",
     "output_type": "stream",
     "text": [
      "Train:\n",
      "[[18083  2593  1537   522   523]\n",
      " [ 2811 17511  1953   519   464]\n",
      " [ 1974  2167 16103  1576  1438]\n",
      " [  763  1072  2170 12588  6665]\n",
      " [  493   444   943  3879 17499]]\n",
      "              precision    recall  f1-score   support\n",
      "\n",
      "           1       0.75      0.78      0.76     23258\n",
      "           2       0.74      0.75      0.74     23258\n",
      "           3       0.71      0.69      0.70     23258\n",
      "           4       0.66      0.54      0.59     23258\n",
      "           5       0.66      0.75      0.70     23258\n",
      "\n",
      "    accuracy                           0.70    116290\n",
      "   macro avg       0.70      0.70      0.70    116290\n",
      "weighted avg       0.70      0.70      0.70    116290\n",
      "\n",
      "Test:\n",
      "[[ 651  221  149   54   52]\n",
      " [ 140   93   99   39   19]\n",
      " [ 119  108  165  112   55]\n",
      " [  85   85  211  491  612]\n",
      " [ 148  151  280 1126 4061]]\n",
      "              precision    recall  f1-score   support\n",
      "\n",
      "           1       0.57      0.58      0.57      1127\n",
      "           2       0.14      0.24      0.18       390\n",
      "           3       0.18      0.30      0.23       559\n",
      "           4       0.27      0.33      0.30      1484\n",
      "           5       0.85      0.70      0.77      5766\n",
      "\n",
      "    accuracy                           0.59      9326\n",
      "   macro avg       0.40      0.43      0.41      9326\n",
      "weighted avg       0.65      0.59      0.61      9326\n",
      "\n"
     ]
    }
   ],
   "source": [
    "clf_logreg_ros = LogisticRegression(max_iter = 1000).fit(X_train_Tfidf_ros, y_train_ros)\n",
    "y_pred_train_logreg_ros = clf_logreg_ros.predict(X_train_Tfidf_ros)\n",
    "y_pred_logreg_ros = clf_logreg_ros.predict(X_test_Tfidf)\n",
    "\n",
    "print(\"Train:\")\n",
    "print(confusion_matrix(y_train_ros, y_pred_train_logreg_ros))\n",
    "print(classification_report(y_train_ros, y_pred_train_logreg_ros))\n",
    "\n",
    "print(\"Test:\")\n",
    "print(confusion_matrix(y_test, y_pred_logreg_ros))\n",
    "print(classification_report(y_test, y_pred_logreg_ros))"
   ]
  },
  {
   "cell_type": "markdown",
   "id": "6b1bdff3",
   "metadata": {},
   "source": [
    "#### Random forest with random oversampling"
   ]
  },
  {
   "cell_type": "code",
   "execution_count": 21,
   "id": "2763d65a",
   "metadata": {},
   "outputs": [
    {
     "name": "stdout",
     "output_type": "stream",
     "text": [
      "Train:\n",
      "[[22666   221   148    48   175]\n",
      " [  264 22675   115    35   169]\n",
      " [  208   171 22079   284   516]\n",
      " [   65    61   111 20610  2411]\n",
      " [   51    47   164  1154 21842]]\n",
      "              precision    recall  f1-score   support\n",
      "\n",
      "           1       0.97      0.97      0.97     23258\n",
      "           2       0.98      0.97      0.98     23258\n",
      "           3       0.98      0.95      0.96     23258\n",
      "           4       0.93      0.89      0.91     23258\n",
      "           5       0.87      0.94      0.90     23258\n",
      "\n",
      "    accuracy                           0.94    116290\n",
      "   macro avg       0.95      0.94      0.95    116290\n",
      "weighted avg       0.95      0.94      0.95    116290\n",
      "\n",
      "Test:\n",
      "[[ 836   31   42   35  183]\n",
      " [ 212   10   27   31  110]\n",
      " [ 195   19   46   87  212]\n",
      " [ 113    8   55  241 1067]\n",
      " [ 141   26   68  487 5044]]\n",
      "              precision    recall  f1-score   support\n",
      "\n",
      "           1       0.56      0.74      0.64      1127\n",
      "           2       0.11      0.03      0.04       390\n",
      "           3       0.19      0.08      0.12       559\n",
      "           4       0.27      0.16      0.20      1484\n",
      "           5       0.76      0.87      0.81      5766\n",
      "\n",
      "    accuracy                           0.66      9326\n",
      "   macro avg       0.38      0.38      0.36      9326\n",
      "weighted avg       0.60      0.66      0.62      9326\n",
      "\n"
     ]
    }
   ],
   "source": [
    "clf_rf_ros = RandomForestClassifier(random_state = 1).fit(X_train_Tfidf_ros, y_train_ros)\n",
    "y_pred_train_rf_ros = clf_rf_ros.predict(X_train_Tfidf_ros)\n",
    "y_pred_rf_ros = clf_rf_ros.predict(X_test_Tfidf)\n",
    "\n",
    "print(\"Train:\")\n",
    "print(confusion_matrix(y_train_ros, y_pred_train_rf_ros))\n",
    "print(classification_report(y_train_ros, y_pred_train_rf_ros))\n",
    "\n",
    "print(\"Test:\")\n",
    "print(confusion_matrix(y_test, y_pred_rf_ros))\n",
    "print(classification_report(y_test, y_pred_rf_ros))"
   ]
  },
  {
   "cell_type": "markdown",
   "id": "1a0191d5",
   "metadata": {},
   "source": [
    "#### Bidirectional LSTM with random oversampling"
   ]
  },
  {
   "cell_type": "code",
   "execution_count": 22,
   "id": "b78b00de",
   "metadata": {},
   "outputs": [
    {
     "name": "stdout",
     "output_type": "stream",
     "text": [
      "Model: \"sequential_1\"\n",
      "_________________________________________________________________\n",
      " Layer (type)                Output Shape              Param #   \n",
      "=================================================================\n",
      " embedding_1 (Embedding)     (None, 200, 16)           4575584   \n",
      "                                                                 \n",
      " bidirectional_1 (Bidirectio  (None, 64)               12544     \n",
      " nal)                                                            \n",
      "                                                                 \n",
      " dense_1 (Dense)             (None, 6)                 390       \n",
      "                                                                 \n",
      "=================================================================\n",
      "Total params: 4,588,518\n",
      "Trainable params: 4,588,518\n",
      "Non-trainable params: 0\n",
      "_________________________________________________________________\n"
     ]
    }
   ],
   "source": [
    "model_ros = Sequential()\n",
    "\n",
    "embedding_dim = 16\n",
    "lstm_out = 32\n",
    "\n",
    "model_ros.add(Embedding(vocab_size, embedding_dim, input_length = sequence_length))\n",
    "model_ros.add(Bidirectional(LSTM(lstm_out)))\n",
    "model_ros.add(Dense(6, activation = \"softmax\"))\n",
    "\n",
    "model_ros.compile(loss = \"categorical_crossentropy\", optimizer = \"adam\", metrics = [\"accuracy\"])\n",
    "\n",
    "es = EarlyStopping(monitor = \"val_loss\", mode = \"min\", verbose = 1)\n",
    "mc = ModelCheckpoint(\"best_bilstm_ros.h5\", monitor = \"val_accuracy\", mode = \"max\", verbose = 1, save_best_only = True)\n",
    "\n",
    "model_ros.summary()"
   ]
  },
  {
   "cell_type": "code",
   "execution_count": 23,
   "id": "5f31f6c8",
   "metadata": {},
   "outputs": [
    {
     "name": "stdout",
     "output_type": "stream",
     "text": [
      "Epoch 1/10\n",
      "3635/3635 [==============================] - ETA: 0s - loss: 1.0924 - accuracy: 0.5359\n",
      "Epoch 1: val_accuracy improved from -inf to 0.49893, saving model to best_bilstm_ros.h5\n",
      "3635/3635 [==============================] - 590s 161ms/step - loss: 1.0924 - accuracy: 0.5359 - val_loss: 1.1951 - val_accuracy: 0.4989\n",
      "Epoch 2/10\n",
      "3635/3635 [==============================] - ETA: 0s - loss: 0.8124 - accuracy: 0.6755\n",
      "Epoch 2: val_accuracy improved from 0.49893 to 0.56455, saving model to best_bilstm_ros.h5\n",
      "3635/3635 [==============================] - 618s 170ms/step - loss: 0.8124 - accuracy: 0.6755 - val_loss: 1.1984 - val_accuracy: 0.5646\n",
      "Epoch 2: early stopping\n"
     ]
    }
   ],
   "source": [
    "history_ros = model_ros.fit(train_padded_ros, train_cat_ros, epochs = 10, validation_data = (test_padded, test_cat), callbacks = [es, mc])"
   ]
  },
  {
   "cell_type": "code",
   "execution_count": 24,
   "id": "a1900cc3",
   "metadata": {},
   "outputs": [
    {
     "name": "stdout",
     "output_type": "stream",
     "text": [
      "3635/3635 [==============================] - 100s 27ms/step\n",
      "292/292 [==============================] - 10s 33ms/step\n",
      "Training data:\n",
      "[[16188  4852  1373   455   390]\n",
      " [ 1043 20620  1027   274   294]\n",
      " [ 1120  3367 16276  1201  1294]\n",
      " [  606  1270  1968 12288  7126]\n",
      " [  405   613   995  3977 17268]]\n",
      "              precision    recall  f1-score   support\n",
      "\n",
      "           1       0.84      0.70      0.76     23258\n",
      "           2       0.67      0.89      0.76     23258\n",
      "           3       0.75      0.70      0.73     23258\n",
      "           4       0.68      0.53      0.59     23258\n",
      "           5       0.65      0.74      0.70     23258\n",
      "\n",
      "    accuracy                           0.71    116290\n",
      "   macro avg       0.72      0.71      0.71    116290\n",
      "weighted avg       0.72      0.71      0.71    116290\n",
      "\n",
      "Test data:\n",
      "[[ 530  360  151   39   47]\n",
      " [ 105  154   77   40   14]\n",
      " [  97  162  136  106   58]\n",
      " [  66  142  218  449  609]\n",
      " [ 169  207  299 1095 3996]]\n",
      "              precision    recall  f1-score   support\n",
      "\n",
      "           1       0.55      0.47      0.51      1127\n",
      "           2       0.15      0.39      0.22       390\n",
      "           3       0.15      0.24      0.19       559\n",
      "           4       0.26      0.30      0.28      1484\n",
      "           5       0.85      0.69      0.76      5766\n",
      "\n",
      "    accuracy                           0.56      9326\n",
      "   macro avg       0.39      0.42      0.39      9326\n",
      "weighted avg       0.65      0.56      0.60      9326\n",
      "\n"
     ]
    }
   ],
   "source": [
    "# Load saved model\n",
    "best_bilstm_ros_model = load_model(\"best_bilstm_ros.h5\")\n",
    "\n",
    "y_pred_train_bilstm_ros = best_bilstm_ros_model.predict(train_padded_ros)\n",
    "y_pred_bilstm_ros = best_bilstm_ros_model.predict(test_padded)\n",
    "\n",
    "print(\"Training data:\")\n",
    "print(confusion_matrix(y_train_ros, np.argmax(y_pred_train_bilstm_ros, axis = 1)))\n",
    "print(classification_report(y_train_ros, np.argmax(y_pred_train_bilstm_ros, axis = 1)))\n",
    "\n",
    "print(\"Test data:\")\n",
    "print(confusion_matrix(y_test, np.argmax(y_pred_bilstm_ros, axis = 1)))\n",
    "print(classification_report(y_test, np.argmax(y_pred_bilstm_ros, axis = 1)))"
   ]
  },
  {
   "cell_type": "markdown",
   "id": "d960358c",
   "metadata": {},
   "source": [
    "#### Multinomial logistic regression with random undersampling"
   ]
  },
  {
   "cell_type": "code",
   "execution_count": 25,
   "id": "10c3fdd6",
   "metadata": {},
   "outputs": [
    {
     "name": "stdout",
     "output_type": "stream",
     "text": [
      "Train:\n",
      "[[1216  265  112   41   33]\n",
      " [ 307 1038  197   80   45]\n",
      " [ 194  240  937  172  124]\n",
      " [  68  106  163  922  408]\n",
      " [  25   38   53  209 1342]]\n",
      "              precision    recall  f1-score   support\n",
      "\n",
      "           1       0.67      0.73      0.70      1667\n",
      "           2       0.62      0.62      0.62      1667\n",
      "           3       0.64      0.56      0.60      1667\n",
      "           4       0.65      0.55      0.60      1667\n",
      "           5       0.69      0.81      0.74      1667\n",
      "\n",
      "    accuracy                           0.65      8335\n",
      "   macro avg       0.65      0.65      0.65      8335\n",
      "weighted avg       0.65      0.65      0.65      8335\n",
      "\n",
      "Test:\n",
      "[[ 627  286  122   51   41]\n",
      " [ 123  118  104   27   18]\n",
      " [ 103  142  154  101   59]\n",
      " [  82  122  228  510  542]\n",
      " [ 224  169  276 1397 3700]]\n",
      "              precision    recall  f1-score   support\n",
      "\n",
      "           1       0.54      0.56      0.55      1127\n",
      "           2       0.14      0.30      0.19       390\n",
      "           3       0.17      0.28      0.21       559\n",
      "           4       0.24      0.34      0.29      1484\n",
      "           5       0.85      0.64      0.73      5766\n",
      "\n",
      "    accuracy                           0.55      9326\n",
      "   macro avg       0.39      0.42      0.39      9326\n",
      "weighted avg       0.65      0.55      0.58      9326\n",
      "\n"
     ]
    }
   ],
   "source": [
    "clf_logreg_rus = LogisticRegression(max_iter = 1000).fit(X_train_Tfidf_rus, y_train_rus)\n",
    "y_pred_train_logreg_rus = clf_logreg_rus.predict(X_train_Tfidf_rus)\n",
    "y_pred_logreg_rus = clf_logreg_rus.predict(X_test_Tfidf)\n",
    "\n",
    "print(\"Train:\")\n",
    "print(confusion_matrix(y_train_rus, y_pred_train_logreg_rus))\n",
    "print(classification_report(y_train_rus, y_pred_train_logreg_rus))\n",
    "\n",
    "print(\"Test:\")\n",
    "print(confusion_matrix(y_test, y_pred_logreg_rus))\n",
    "print(classification_report(y_test, y_pred_logreg_rus))"
   ]
  },
  {
   "cell_type": "markdown",
   "id": "218f5bb2",
   "metadata": {},
   "source": [
    "#### Random forest with random undersampling"
   ]
  },
  {
   "cell_type": "code",
   "execution_count": 26,
   "id": "6310b584",
   "metadata": {},
   "outputs": [
    {
     "name": "stdout",
     "output_type": "stream",
     "text": [
      "Train:\n",
      "[[1636   16    2    3   10]\n",
      " [  28 1614    7    5   13]\n",
      " [  25    9 1573   25   35]\n",
      " [   8    3    8 1514  134]\n",
      " [   0    0    7   66 1594]]\n",
      "              precision    recall  f1-score   support\n",
      "\n",
      "           1       0.96      0.98      0.97      1667\n",
      "           2       0.98      0.97      0.98      1667\n",
      "           3       0.98      0.94      0.96      1667\n",
      "           4       0.94      0.91      0.92      1667\n",
      "           5       0.89      0.96      0.92      1667\n",
      "\n",
      "    accuracy                           0.95      8335\n",
      "   macro avg       0.95      0.95      0.95      8335\n",
      "weighted avg       0.95      0.95      0.95      8335\n",
      "\n",
      "Test:\n",
      "[[ 655  251  120   48   53]\n",
      " [ 149  112   76   29   24]\n",
      " [ 118  136  149   84   72]\n",
      " [ 121  118  222  445  578]\n",
      " [ 257  190  330 1408 3581]]\n",
      "              precision    recall  f1-score   support\n",
      "\n",
      "           1       0.50      0.58      0.54      1127\n",
      "           2       0.14      0.29      0.19       390\n",
      "           3       0.17      0.27      0.20       559\n",
      "           4       0.22      0.30      0.25      1484\n",
      "           5       0.83      0.62      0.71      5766\n",
      "\n",
      "    accuracy                           0.53      9326\n",
      "   macro avg       0.37      0.41      0.38      9326\n",
      "weighted avg       0.63      0.53      0.57      9326\n",
      "\n"
     ]
    }
   ],
   "source": [
    "clf_rf_rus = RandomForestClassifier(random_state = 1).fit(X_train_Tfidf_rus, y_train_rus)\n",
    "y_pred_train_rf_rus = clf_rf_rus.predict(X_train_Tfidf_rus)\n",
    "y_pred_rf_rus = clf_rf_rus.predict(X_test_Tfidf)\n",
    "\n",
    "print(\"Train:\")\n",
    "print(confusion_matrix(y_train_rus, y_pred_train_rf_rus))\n",
    "print(classification_report(y_train_rus, y_pred_train_rf_rus))\n",
    "\n",
    "print(\"Test:\")\n",
    "print(confusion_matrix(y_test, y_pred_rf_rus))\n",
    "print(classification_report(y_test, y_pred_rf_rus))"
   ]
  },
  {
   "cell_type": "markdown",
   "id": "d5ac214f",
   "metadata": {},
   "source": [
    "#### Bidirectional LSTM with random undersampling"
   ]
  },
  {
   "cell_type": "code",
   "execution_count": 27,
   "id": "5f38e71f",
   "metadata": {},
   "outputs": [
    {
     "name": "stdout",
     "output_type": "stream",
     "text": [
      "Model: \"sequential_2\"\n",
      "_________________________________________________________________\n",
      " Layer (type)                Output Shape              Param #   \n",
      "=================================================================\n",
      " embedding_2 (Embedding)     (None, 200, 16)           4575584   \n",
      "                                                                 \n",
      " bidirectional_2 (Bidirectio  (None, 64)               12544     \n",
      " nal)                                                            \n",
      "                                                                 \n",
      " dense_2 (Dense)             (None, 6)                 390       \n",
      "                                                                 \n",
      "=================================================================\n",
      "Total params: 4,588,518\n",
      "Trainable params: 4,588,518\n",
      "Non-trainable params: 0\n",
      "_________________________________________________________________\n"
     ]
    }
   ],
   "source": [
    "model_rus = Sequential()\n",
    "\n",
    "embedding_dim = 16\n",
    "lstm_out = 32\n",
    "\n",
    "model_rus.add(Embedding(vocab_size, embedding_dim, input_length = sequence_length))\n",
    "model_rus.add(Bidirectional(LSTM(lstm_out)))\n",
    "model_rus.add(Dense(6, activation = \"softmax\"))\n",
    "\n",
    "model_rus.compile(loss = \"categorical_crossentropy\", optimizer = \"adam\", metrics = [\"accuracy\"])\n",
    "\n",
    "es = EarlyStopping(monitor = \"val_loss\", mode = \"min\", verbose = 1)\n",
    "mc = ModelCheckpoint(\"best_bilstm_rus.h5\", monitor = \"val_accuracy\", mode = \"max\", verbose = 1, save_best_only = True)\n",
    "\n",
    "model_rus.summary()"
   ]
  },
  {
   "cell_type": "code",
   "execution_count": 28,
   "id": "eccab98f",
   "metadata": {},
   "outputs": [
    {
     "name": "stdout",
     "output_type": "stream",
     "text": [
      "Epoch 1/10\n",
      "261/261 [==============================] - ETA: 0s - loss: 1.5229 - accuracy: 0.2975\n",
      "Epoch 1: val_accuracy improved from -inf to 0.61505, saving model to best_bilstm_rus.h5\n",
      "261/261 [==============================] - 61s 217ms/step - loss: 1.5229 - accuracy: 0.2975 - val_loss: 1.0990 - val_accuracy: 0.6151\n",
      "Epoch 2/10\n",
      "261/261 [==============================] - ETA: 0s - loss: 1.2551 - accuracy: 0.4227\n",
      "Epoch 2: val_accuracy improved from 0.61505 to 0.62653, saving model to best_bilstm_rus.h5\n",
      "261/261 [==============================] - 46s 175ms/step - loss: 1.2551 - accuracy: 0.4227 - val_loss: 1.1031 - val_accuracy: 0.6265\n",
      "Epoch 2: early stopping\n"
     ]
    }
   ],
   "source": [
    "history_rus = model_rus.fit(train_padded_rus, train_cat_rus, epochs = 10, validation_data = (test_padded, test_cat), callbacks = [es, mc])"
   ]
  },
  {
   "cell_type": "code",
   "execution_count": 29,
   "id": "598cacf7",
   "metadata": {},
   "outputs": [
    {
     "name": "stdout",
     "output_type": "stream",
     "text": [
      "261/261 [==============================] - 7s 23ms/step\n",
      "292/292 [==============================] - 7s 23ms/step\n",
      "Training data:\n",
      "[[1235  203  161   16   52]\n",
      " [ 804  342  408   46   67]\n",
      " [ 383  240  699  118  227]\n",
      " [  94   48  309  217  999]\n",
      " [  25    9   94   88 1451]]\n",
      "              precision    recall  f1-score   support\n",
      "\n",
      "           1       0.49      0.74      0.59      1667\n",
      "           2       0.41      0.21      0.27      1667\n",
      "           3       0.42      0.42      0.42      1667\n",
      "           4       0.45      0.13      0.20      1667\n",
      "           5       0.52      0.87      0.65      1667\n",
      "\n",
      "    accuracy                           0.47      8335\n",
      "   macro avg       0.46      0.47      0.43      8335\n",
      "weighted avg       0.46      0.47      0.43      8335\n",
      "\n",
      "Test data:\n",
      "[[ 809  126  117   19   56]\n",
      " [ 187   68  108   10   17]\n",
      " [ 165   80  186   33   95]\n",
      " [ 103   53  298  183  847]\n",
      " [ 162   73  492  442 4597]]\n",
      "              precision    recall  f1-score   support\n",
      "\n",
      "           1       0.57      0.72      0.63      1127\n",
      "           2       0.17      0.17      0.17       390\n",
      "           3       0.15      0.33      0.21       559\n",
      "           4       0.27      0.12      0.17      1484\n",
      "           5       0.82      0.80      0.81      5766\n",
      "\n",
      "    accuracy                           0.63      9326\n",
      "   macro avg       0.40      0.43      0.40      9326\n",
      "weighted avg       0.63      0.63      0.62      9326\n",
      "\n"
     ]
    }
   ],
   "source": [
    "# Load saved model\n",
    "best_bilstm_rus_model = load_model(\"best_bilstm_rus.h5\")\n",
    "\n",
    "y_pred_train_bilstm_rus = best_bilstm_rus_model.predict(train_padded_rus)\n",
    "y_pred_bilstm_rus = best_bilstm_rus_model.predict(test_padded)\n",
    "\n",
    "print(\"Training data:\")\n",
    "print(confusion_matrix(y_train_rus, np.argmax(y_pred_train_bilstm_rus, axis = 1)))\n",
    "print(classification_report(y_train_rus, np.argmax(y_pred_train_bilstm_rus, axis = 1)))\n",
    "\n",
    "print(\"Test data:\")\n",
    "print(confusion_matrix(y_test, np.argmax(y_pred_bilstm_rus, axis = 1)))\n",
    "print(classification_report(y_test, np.argmax(y_pred_bilstm_rus, axis = 1)))"
   ]
  },
  {
   "cell_type": "markdown",
   "id": "da9db80a",
   "metadata": {},
   "source": [
    "## Error analysis"
   ]
  },
  {
   "cell_type": "markdown",
   "id": "05658130",
   "metadata": {},
   "source": [
    "#### Length of reviews"
   ]
  },
  {
   "cell_type": "code",
   "execution_count": 72,
   "id": "1e652501",
   "metadata": {},
   "outputs": [
    {
     "data": {
      "text/plain": [
       "<matplotlib.legend.Legend at 0x1a1460d3370>"
      ]
     },
     "execution_count": 72,
     "metadata": {},
     "output_type": "execute_result"
    },
    {
     "data": {
      "image/png": "[encoded data removed]",
      "text/plain": [
       "<Figure size 700x500 with 1 Axes>"
      ]
     },
     "metadata": {},
     "output_type": "display_data"
    }
   ],
   "source": [
    "#plt.rcParams['figure.figsize'] = [7, 5]\n",
    "\n",
    "plt.figure(figsize=(7, 5))\n",
    "\n",
    "logreg_correct = [len(x.split()) for x in X_test.iloc[np.where(y_pred_logreg == y_test)]]\n",
    "logreg_misclassified = [len(x.split()) for x in X_test.iloc[np.where(y_pred_logreg != y_test)]]\n",
    "\n",
    "rf_correct = [len(x.split()) for x in X_test.iloc[np.where(y_pred_rf == y_test)]]\n",
    "rf_misclassified = [len(x.split()) for x in X_test.iloc[np.where(y_pred_rf != y_test)]]\n",
    "\n",
    "bilstm_correct = [len(x.split()) for x in X_test.iloc[np.where(np.argmax(y_pred_bilstm, axis = 1) == y_test)]]\n",
    "bilstm_misclassified = [len(x.split()) for x in X_test.iloc[np.where(np.argmax(y_pred_bilstm, axis = 1) != y_test)]]\n",
    "\n",
    "logreg_ros_correct = [len(x.split()) for x in X_test.iloc[np.where(y_pred_logreg_ros == y_test)]]\n",
    "logreg_ros_misclassified = [len(x.split()) for x in X_test.iloc[np.where(y_pred_logreg_ros != y_test)]]\n",
    "\n",
    "rf_ros_correct = [len(x.split()) for x in X_test.iloc[np.where(y_pred_rf_ros == y_test)]]\n",
    "rf_ros_misclassified = [len(x.split()) for x in X_test.iloc[np.where(y_pred_rf_ros != y_test)]]\n",
    "\n",
    "bilstm_ros_correct = [len(x.split()) for x in X_test.iloc[np.where(np.argmax(y_pred_bilstm_ros, axis = 1) == y_test)]]\n",
    "bilstm_ros_misclassified = [len(x.split()) for x in X_test.iloc[np.where(np.argmax(y_pred_bilstm_ros, axis = 1) != y_test)]]\n",
    "\n",
    "logreg_rus_correct = [len(x.split()) for x in X_test.iloc[np.where(y_pred_logreg_rus == y_test)]]\n",
    "logreg_rus_misclassified = [len(x.split()) for x in X_test.iloc[np.where(y_pred_logreg_rus != y_test)]]\n",
    "\n",
    "rf_rus_correct = [len(x.split()) for x in X_test.iloc[np.where(y_pred_rf_rus == y_test)]]\n",
    "rf_rus_misclassified = [len(x.split()) for x in X_test.iloc[np.where(y_pred_rf_rus != y_test)]]\n",
    "\n",
    "bilstm_rus_correct = [len(x.split()) for x in X_test.iloc[np.where(np.argmax(y_pred_bilstm_rus, axis = 1) == y_test)]]\n",
    "bilstm_rus_misclassified = [len(x.split()) for x in X_test.iloc[np.where(np.argmax(y_pred_bilstm_rus, axis = 1) != y_test)]]\n",
    "\n",
    "df_boxplot = pd.DataFrame(\n",
    "    {\"# of terms\": logreg_correct + logreg_misclassified +\n",
    "     rf_correct + rf_misclassified +\n",
    "     bilstm_correct + bilstm_misclassified +\n",
    "     logreg_ros_correct + logreg_ros_misclassified +\n",
    "     rf_ros_correct + rf_ros_misclassified +\n",
    "     bilstm_ros_correct + bilstm_ros_misclassified +\n",
    "     logreg_rus_correct + logreg_rus_misclassified +\n",
    "     rf_rus_correct + rf_rus_misclassified +\n",
    "     bilstm_rus_correct + bilstm_rus_misclassified,\n",
    "     \n",
    "     \"Classification\": [\"Correct\"] * len(logreg_correct) + [\"Misclassified\"] * len(logreg_misclassified) +\n",
    "     [\"Correct\"] * len(rf_correct) + [\"Misclassified\"] * len(rf_misclassified) +\n",
    "     [\"Correct\"] * len(bilstm_correct) + [\"Misclassified\"] * len(bilstm_misclassified) +\n",
    "     [\"Correct\"] * len(logreg_ros_correct) + [\"Misclassified\"] * len(logreg_ros_misclassified) +\n",
    "     [\"Correct\"] * len(rf_ros_correct) + [\"Misclassified\"] * len(rf_ros_misclassified) +\n",
    "     [\"Correct\"] * len(bilstm_ros_correct) + [\"Misclassified\"] * len(bilstm_ros_misclassified) +\n",
    "     [\"Correct\"] * len(logreg_rus_correct) + [\"Misclassified\"] * len(logreg_rus_misclassified) +\n",
    "     [\"Correct\"] * len(rf_rus_correct) + [\"Misclassified\"] * len(rf_rus_misclassified) +\n",
    "     [\"Correct\"] * len(bilstm_rus_correct) + [\"Misclassified\"] * len(bilstm_rus_misclassified),\n",
    "     \n",
    "     \"Classifier\": [\"Multinomial regression\"] * len(y_test) +\n",
    "     [\"Random forest\"] * len(y_test) +\n",
    "     [\"BiLSTM\"] * len(y_test) +\n",
    "     [\"Multinomial regression with ROS\"] * len(y_test) +\n",
    "     [\"Random forest with ROS\"] * len(y_test) +\n",
    "     [\"BiLSTM with ROS\"] * len(y_test) +\n",
    "     [\"Multinomial regression with RUS\"] * len(y_test) +\n",
    "     [\"Random forest with RUS\"] * len(y_test) +\n",
    "     [\"BiLSTM with RUS\"] * len(y_test)\n",
    "    })\n",
    "\n",
    "g = sns.boxplot(data = df_boxplot, x = \"# of terms\", y = \"Classifier\", hue = \"Classification\", palette = \"magma_r\", showfliers = False)\n",
    "g.legend(bbox_to_anchor = (1.02, 1), loc = \"upper left\", borderaxespad = 0)"
   ]
  },
  {
   "cell_type": "markdown",
   "id": "61084fdf",
   "metadata": {},
   "source": [
    "#### Length of preprocessed reviews"
   ]
  },
  {
   "cell_type": "code",
   "execution_count": 73,
   "id": "158f3747",
   "metadata": {},
   "outputs": [
    {
     "data": {
      "text/plain": [
       "<matplotlib.legend.Legend at 0x1a145301ab0>"
      ]
     },
     "execution_count": 73,
     "metadata": {},
     "output_type": "execute_result"
    },
    {
     "data": {
      "image/png": "[encoded data removed]",
      "text/plain": [
       "<Figure size 700x500 with 1 Axes>"
      ]
     },
     "metadata": {},
     "output_type": "display_data"
    }
   ],
   "source": [
    "X_test_preprocessed = [preprocess(x) for x in X_test]\n",
    "X_test_preprocessed_len = [len(x) for x in X_test_preprocessed]\n",
    "\n",
    "logreg_correct_preprocessed = np.array(X_test_preprocessed_len)[np.where(y_pred_logreg == y_test)].tolist()\n",
    "logreg_misclassified_preprocessed = np.array(X_test_preprocessed_len)[np.where(y_pred_logreg != y_test)].tolist()\n",
    "\n",
    "rf_correct_preprocessed = np.array(X_test_preprocessed_len)[np.where(y_pred_rf == y_test)].tolist()\n",
    "rf_misclassified_preprocessed = np.array(X_test_preprocessed_len)[np.where(y_pred_rf != y_test)].tolist()\n",
    "\n",
    "bilstm_correct_preprocessed = np.array(X_test_preprocessed_len)[np.where(np.argmax(y_pred_bilstm, axis = 1) == y_test)].tolist()\n",
    "bilstm_misclassified_preprocessed = np.array(X_test_preprocessed_len)[np.where(np.argmax(y_pred_bilstm, axis = 1) != y_test)].tolist()\n",
    "\n",
    "logreg_ros_correct_preprocessed = np.array(X_test_preprocessed_len)[np.where(y_pred_logreg_ros == y_test)].tolist()\n",
    "logreg_ros_misclassified_preprocessed = np.array(X_test_preprocessed_len)[np.where(y_pred_logreg_ros != y_test)].tolist()\n",
    "\n",
    "rf_ros_correct_preprocessed = np.array(X_test_preprocessed_len)[np.where(y_pred_rf_ros == y_test)].tolist()\n",
    "rf_ros_misclassified_preprocessed = np.array(X_test_preprocessed_len)[np.where(y_pred_rf_ros != y_test)].tolist()\n",
    "\n",
    "bilstm_ros_correct_preprocessed = np.array(X_test_preprocessed_len)[np.where(np.argmax(y_pred_bilstm_ros, axis = 1) == y_test)].tolist()\n",
    "bilstm_ros_misclassified_preprocessed = np.array(X_test_preprocessed_len)[np.where(np.argmax(y_pred_bilstm_ros, axis = 1) != y_test)].tolist()\n",
    "\n",
    "logreg_rus_correct_preprocessed = np.array(X_test_preprocessed_len)[np.where(y_pred_logreg_rus == y_test)].tolist()\n",
    "logreg_rus_misclassified_preprocessed = np.array(X_test_preprocessed_len)[np.where(y_pred_logreg_rus != y_test)].tolist()\n",
    "\n",
    "rf_rus_correct_preprocessed = np.array(X_test_preprocessed_len)[np.where(y_pred_rf_rus == y_test)].tolist()\n",
    "rf_rus_misclassified_preprocessed = np.array(X_test_preprocessed_len)[np.where(y_pred_rf_rus != y_test)].tolist()\n",
    "\n",
    "bilstm_rus_correct_preprocessed = np.array(X_test_preprocessed_len)[np.where(np.argmax(y_pred_bilstm_rus, axis = 1) == y_test)].tolist()\n",
    "bilstm_rus_misclassified_preprocessed = np.array(X_test_preprocessed_len)[np.where(np.argmax(y_pred_bilstm_rus, axis = 1) != y_test)].tolist()\n",
    "\n",
    "df_boxplot_preprocessed = pd.DataFrame(\n",
    "    {\"# of terms\": logreg_correct_preprocessed + logreg_misclassified_preprocessed +\n",
    "     rf_correct_preprocessed + rf_misclassified_preprocessed +\n",
    "     bilstm_correct_preprocessed + bilstm_misclassified_preprocessed +\n",
    "     logreg_ros_correct_preprocessed + logreg_ros_misclassified_preprocessed +\n",
    "     rf_ros_correct_preprocessed + rf_ros_misclassified_preprocessed +\n",
    "     bilstm_ros_correct_preprocessed + bilstm_ros_misclassified_preprocessed +\n",
    "     logreg_rus_correct_preprocessed + logreg_rus_misclassified_preprocessed +\n",
    "     rf_rus_correct_preprocessed + rf_rus_misclassified_preprocessed +\n",
    "     bilstm_rus_correct_preprocessed + bilstm_rus_misclassified_preprocessed,\n",
    "     \n",
    "     \"Classification\": [\"Correct\"] * len(logreg_correct_preprocessed) + [\"Misclassified\"] * len(logreg_misclassified_preprocessed) +\n",
    "     [\"Correct\"] * len(rf_correct_preprocessed) + [\"Misclassified\"] * len(rf_misclassified_preprocessed) +\n",
    "     [\"Correct\"] * len(bilstm_correct_preprocessed) + [\"Misclassified\"] * len(bilstm_misclassified_preprocessed) +\n",
    "     [\"Correct\"] * len(logreg_ros_correct_preprocessed) + [\"Misclassified\"] * len(logreg_ros_misclassified_preprocessed) +\n",
    "     [\"Correct\"] * len(rf_ros_correct_preprocessed) + [\"Misclassified\"] * len(rf_ros_misclassified_preprocessed) +\n",
    "     [\"Correct\"] * len(bilstm_ros_correct_preprocessed) + [\"Misclassified\"] * len(bilstm_ros_misclassified_preprocessed) +\n",
    "     [\"Correct\"] * len(logreg_rus_correct_preprocessed) + [\"Misclassified\"] * len(logreg_rus_misclassified_preprocessed) +\n",
    "     [\"Correct\"] * len(rf_rus_correct_preprocessed) + [\"Misclassified\"] * len(rf_rus_misclassified_preprocessed) +\n",
    "     [\"Correct\"] * len(bilstm_rus_correct_preprocessed) + [\"Misclassified\"] * len(bilstm_rus_misclassified_preprocessed),\n",
    "     \n",
    "     \"Classifier\": [\"Multinomial regression\"] * len(y_test) +\n",
    "     [\"Random forest\"] * len(y_test) +\n",
    "     [\"BiLSTM\"] * len(y_test) +\n",
    "     [\"Multinomial regression with ROS\"] * len(y_test) +\n",
    "     [\"Random forest with ROS\"] * len(y_test) +\n",
    "     [\"BiLSTM with ROS\"] * len(y_test) +\n",
    "     [\"Multinomial regression with RUS\"] * len(y_test) +\n",
    "     [\"Random forest with RUS\"] * len(y_test) +\n",
    "     [\"BiLSTM with RUS\"] * len(y_test)\n",
    "    })\n",
    "\n",
    "g = sns.boxplot(data = df_boxplot_preprocessed, x = \"# of terms\", y = \"Classifier\", hue = \"Classification\", palette = \"magma_r\", showfliers = False)\n",
    "g.legend(bbox_to_anchor = (1.02, 1), loc = \"upper left\", borderaxespad = 0)"
   ]
  },
  {
   "cell_type": "markdown",
   "id": "f8fae0e5",
   "metadata": {},
   "source": [
    "#### Intersecting misclassifications"
   ]
  },
  {
   "cell_type": "code",
   "execution_count": 56,
   "id": "b0d4370b",
   "metadata": {},
   "outputs": [
    {
     "data": {
      "text/plain": [
       "array([[2720., 2458., 2439., 2088., 2344., 2056., 2026., 2039., 2237.],\n",
       "       [2458., 2838., 2350., 2053., 2563., 2066., 2016., 2104., 2234.],\n",
       "       [2439., 2350., 2653., 1980., 2263., 1975., 1931., 1973., 2215.],\n",
       "       [2088., 2053., 1980., 3865., 2233., 3214., 3209., 2819., 2398.],\n",
       "       [2344., 2563., 2263., 2233., 3149., 2270., 2230., 2424., 2195.],\n",
       "       [2056., 2066., 1975., 3214., 2270., 4061., 3123., 2826., 2491.],\n",
       "       [2026., 2016., 1931., 3209., 2230., 3123., 4217., 3150., 2529.],\n",
       "       [2039., 2104., 1973., 2819., 2424., 2826., 3150., 4384., 2531.],\n",
       "       [2237., 2234., 2215., 2398., 2195., 2491., 2529., 2531., 3483.]])"
      ]
     },
     "execution_count": 56,
     "metadata": {},
     "output_type": "execute_result"
    }
   ],
   "source": [
    "np.set_printoptions(suppress = True)\n",
    "\n",
    "matrix_misclassifications = np.zeros((9,9))\n",
    "\n",
    "preds = [y_pred_logreg, y_pred_rf, np.argmax(y_pred_bilstm, axis = 1),\n",
    " y_pred_logreg_ros, y_pred_rf_ros, np.argmax(y_pred_bilstm_ros, axis = 1),\n",
    " y_pred_logreg_rus, y_pred_rf_rus, np.argmax(y_pred_bilstm_rus, axis = 1)]\n",
    "\n",
    "for i, pred1 in enumerate(preds):\n",
    "    for j, pred2 in enumerate(preds):\n",
    "        matrix_misclassifications[i,j] = len(np.intersect1d(np.where(pred1 != y_test), np.where(pred2 != y_test)))\n",
    "\n",
    "matrix_misclassifications"
   ]
  }
 ],
 "metadata": {
  "kernelspec": {
   "display_name": "Python 3 (ipykernel)",
   "language": "python",
   "name": "python3"
  },
  "language_info": {
   "codemirror_mode": {
    "name": "ipython",
    "version": 3
   },
   "file_extension": ".py",
   "mimetype": "text/x-python",
   "name": "python",
   "nbconvert_exporter": "python",
   "pygments_lexer": "ipython3",
   "version": "3.10.8"
  }
 },
 "nbformat": 4,
 "nbformat_minor": 5
}
